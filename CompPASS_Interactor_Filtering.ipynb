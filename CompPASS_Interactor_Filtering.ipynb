{
 "cells": [
  {
   "cell_type": "code",
   "execution_count": 3,
   "metadata": {},
   "outputs": [
    {
     "data": {
      "application/vnd.jupyter.widget-view+json": {
       "model_id": "d834cb4f070247a7b51f7974df2daaf7",
       "version_major": 2,
       "version_minor": 0
      },
      "text/plain": [
       "VBox(children=(Select(description='CompPASS File:', layout=Layout(width='90%'), options=('MOR01_pIP001-007_AP-…"
      ]
     },
     "metadata": {},
     "output_type": "display_data"
    }
   ],
   "source": [
    "from IPython.display import display\n",
    "import ipywidgets as widgets\n",
    "from os import path, getcwd\n",
    "from lib import interactors, util\n",
    "\n",
    "# TODO: Fix description layouts. Perhaps with a Label widget?\n",
    "select = widgets.Select(\n",
    "    options=util.get_filtered_cwd(),\n",
    "    description='CompPASS File:',\n",
    "    style={'description_width': 'initial'},\n",
    "    layout=widgets.Layout(width='90%'))\n",
    "text_bait = widgets.Text(\n",
    "    description='Bait:',\n",
    "    style={'description_width': 'initial'},\n",
    "    layout=widgets.Layout(width='90%'))\n",
    "text_wd_percentile = widgets.FloatText(\n",
    "    description='WD Percentile:',\n",
    "    style={'description_width': 'initial'},\n",
    "    layout=widgets.Layout(width='90%'))\n",
    "text_z_percentile = widgets.FloatText(\n",
    "    description='Z Percentile:',\n",
    "    style={'description_width': 'initial'},\n",
    "    layout=widgets.Layout(width='90%')) \n",
    "button = widgets.Button(description=\"Calibrate\")\n",
    "\n",
    "# https://github.com/jupyterlab/jupyterlab/issues/1254\n",
    "out = widgets.Output()\n",
    "    \n",
    "def on_button_clicked(b):\n",
    "    out.clear_output()\n",
    "    interactors.calibrate(\n",
    "        path.join(getcwd(), select.value),\n",
    "        text_bait.value,\n",
    "        text_wd_percentile.value,\n",
    "        text_z_percentile.value,\n",
    "        out=out)\n",
    "\n",
    "button.on_click(on_button_clicked)\n",
    "widgets.VBox([select, text_bait, text_wd_percentile, text_z_percentile, button, out])"
   ]
  },
  {
   "cell_type": "code",
   "execution_count": 4,
   "metadata": {},
   "outputs": [
    {
     "data": {
      "application/vnd.jupyter.widget-view+json": {
       "model_id": "c72a4ab854a947228c6ce5a653514c1a",
       "version_major": 2,
       "version_minor": 0
      },
      "text/plain": [
       "VBox(children=(Select(description='CompPASS File:', layout=Layout(width='90%'), options=('MOR01_pIP001-007_AP-…"
      ]
     },
     "metadata": {},
     "output_type": "display_data"
    }
   ],
   "source": [
    "from IPython.display import display\n",
    "import ipywidgets as widgets\n",
    "from os import path, getcwd\n",
    "from lib import interactors, util\n",
    "\n",
    "# TODO: Fix description layouts. Perhaps with a Label widget?\n",
    "select = widgets.Select(\n",
    "    options=util.get_filtered_cwd(),\n",
    "    description='CompPASS File:',\n",
    "    style={'description_width': 'initial'},\n",
    "    layout=widgets.Layout(width='90%'))\n",
    "text_wd_percentile = widgets.FloatText(\n",
    "    description='WD Percentile:',\n",
    "    style={'description_width': 'initial'},\n",
    "    layout=widgets.Layout(width='90%'))\n",
    "text_z_percentile = widgets.FloatText(\n",
    "    description='Z Percentile:',\n",
    "    style={'description_width': 'initial'},\n",
    "    layout=widgets.Layout(width='90%')) \n",
    "button = widgets.Button(description=\"Filter All\")\n",
    "\n",
    "# https://github.com/jupyterlab/jupyterlab/issues/1254\n",
    "out = widgets.Output()\n",
    "    \n",
    "def on_button_clicked(b):\n",
    "    out.clear_output()\n",
    "    interactors.filter_bait(\n",
    "        path.join(getcwd(), select.value),\n",
    "        text_wd_percentile.value,\n",
    "        text_z_percentile.value,\n",
    "        out=out)\n",
    "\n",
    "button.on_click(on_button_clicked)\n",
    "widgets.VBox([select, text_wd_percentile, text_z_percentile, button, out])"
   ]
  },
  {
   "cell_type": "code",
   "execution_count": null,
   "metadata": {},
   "outputs": [],
   "source": []
  }
 ],
 "metadata": {
  "kernelspec": {
   "display_name": "Python 3",
   "language": "python",
   "name": "python3"
  },
  "language_info": {
   "codemirror_mode": {
    "name": "ipython",
    "version": 3
   },
   "file_extension": ".py",
   "mimetype": "text/x-python",
   "name": "python",
   "nbconvert_exporter": "python",
   "pygments_lexer": "ipython3",
   "version": "3.6.6"
  }
 },
 "nbformat": 4,
 "nbformat_minor": 2
}
